{
  "nbformat": 4,
  "nbformat_minor": 0,
  "metadata": {
    "colab": {
      "name": "match-steam-banners.ipynb",
      "provenance": [],
      "collapsed_sections": [
        "F15jUh33Vq73",
        "oqvODp25ViaQ"
      ]
    },
    "kernelspec": {
      "name": "python3",
      "display_name": "Python 3"
    },
    "accelerator": "GPU"
  },
  "cells": [
    {
      "cell_type": "markdown",
      "metadata": {
        "id": "G6SvalVrCEwC",
        "colab_type": "text"
      },
      "source": [
        "# Match Steam Banners\n",
        "\n",
        "Code inspired from https://github.com/woctezuma/match-steam-banners"
      ]
    },
    {
      "cell_type": "markdown",
      "metadata": {
        "id": "vCYWI2CASdE6",
        "colab_type": "text"
      },
      "source": [
        "## Setting"
      ]
    },
    {
      "cell_type": "markdown",
      "metadata": {
        "id": "G8TKl2-1S-7q",
        "colab_type": "text"
      },
      "source": [
        "### Clone my repository"
      ]
    },
    {
      "cell_type": "code",
      "metadata": {
        "id": "Bmuk3GKIaWs1",
        "colab_type": "code",
        "colab": {}
      },
      "source": [
        "%cd /content/"
      ],
      "execution_count": null,
      "outputs": []
    },
    {
      "cell_type": "code",
      "metadata": {
        "id": "o7PV2sIITBY2",
        "colab_type": "code",
        "colab": {}
      },
      "source": [
        "!rm -rf match-steam-banners/\n",
        "\n",
        "!git clone https://github.com/woctezuma/match-steam-banners.git"
      ],
      "execution_count": null,
      "outputs": []
    },
    {
      "cell_type": "markdown",
      "metadata": {
        "id": "CV2RZLacSpv3",
        "colab_type": "text"
      },
      "source": [
        "### Install Python requirements"
      ]
    },
    {
      "cell_type": "code",
      "metadata": {
        "id": "ggG_hlZAaVGf",
        "colab_type": "code",
        "colab": {}
      },
      "source": [
        "%cd /content/match-steam-banners/"
      ],
      "execution_count": null,
      "outputs": []
    },
    {
      "cell_type": "code",
      "metadata": {
        "id": "PJM-H04GD26p",
        "colab_type": "code",
        "colab": {}
      },
      "source": [
        "!pip install -r requirements.txt -f https://download.pytorch.org/whl/torch_stable.html"
      ],
      "execution_count": null,
      "outputs": []
    },
    {
      "cell_type": "code",
      "metadata": {
        "id": "yOh3ju2DML3I"
      },
      "source": [
        "%pip install git+https://github.com/openai/CLIP.git"
      ],
      "execution_count": null,
      "outputs": []
    },
    {
      "cell_type": "markdown",
      "metadata": {
        "id": "HyOFItqaVLwR",
        "colab_type": "text"
      },
      "source": [
        "## Image data"
      ]
    },
    {
      "cell_type": "markdown",
      "metadata": {
        "id": "UlwQntJBShTv",
        "colab_type": "text"
      },
      "source": [
        "### Mount Google Drive"
      ]
    },
    {
      "cell_type": "code",
      "metadata": {
        "id": "VLf81jekSuwF",
        "colab_type": "code",
        "colab": {}
      },
      "source": [
        "!pip install Google-Colab-Transfer"
      ],
      "execution_count": null,
      "outputs": []
    },
    {
      "cell_type": "code",
      "metadata": {
        "id": "-0HryXP5Sw61",
        "colab_type": "code",
        "colab": {}
      },
      "source": [
        "import colab_transfer\n",
        "\n",
        "colab_transfer.mount_google_drive()"
      ],
      "execution_count": null,
      "outputs": []
    },
    {
      "cell_type": "markdown",
      "metadata": {
        "id": "ph4E9dRfTgll",
        "colab_type": "text"
      },
      "source": [
        "### Import image data from Google Drive"
      ]
    },
    {
      "cell_type": "code",
      "metadata": {
        "id": "TW3-os1vCMig",
        "colab_type": "code",
        "colab": {}
      },
      "source": [
        "colab_transfer.copy_file('resized_vertical_steam_banners_224.tar',\r\n",
        "                         source='/content/drive/MyDrive/data/',\r\n",
        "                         destination='/content/match-steam-banners/data/')\r\n",
        "\r\n",
        "# Alternatively, run:\r\n",
        "# !gdown --id 1--cxY3jvTVWq-lZt8NvfN2fHND7YhKN4\r\n",
        "# %mkdir -p data/\r\n",
        "# %mv resized_vertical_steam_banners_224.tar data/"
      ],
      "execution_count": null,
      "outputs": []
    },
    {
      "cell_type": "code",
      "metadata": {
        "id": "_fgf2lyZLUbi"
      },
      "source": [
        "%cd /content/match-steam-banners/\r\n",
        "!tar -xf data/resized_vertical_steam_banners_224.tar"
      ],
      "execution_count": null,
      "outputs": []
    },
    {
      "cell_type": "code",
      "metadata": {
        "id": "PScsFfO-C8f-",
        "colab_type": "code",
        "colab": {}
      },
      "source": [
        "%cd /content/match-steam-banners/\r\n",
        "%mv data/resized_vertical_steam_banners_224 data/resized_vertical_steam_banners"
      ],
      "execution_count": null,
      "outputs": []
    },
    {
      "cell_type": "markdown",
      "metadata": {
        "id": "3kTiGjf8VS8B",
        "colab_type": "text"
      },
      "source": [
        "## 1. Features\n",
        "\n",
        "First, compute and store the 1024 features corresponding to each banner."
      ]
    },
    {
      "cell_type": "markdown",
      "metadata": {
        "id": "F15jUh33Vq73",
        "colab_type": "text"
      },
      "source": [
        "### Compute features\n",
        "\n",
        "It takes about 1 minute to process 1k images. Total time: ~ 20 minutes."
      ]
    },
    {
      "cell_type": "code",
      "metadata": {
        "id": "EJp6NSMzIprZ",
        "colab_type": "code",
        "colab": {}
      },
      "source": [
        "!python build_feature_index.py"
      ],
      "execution_count": null,
      "outputs": []
    },
    {
      "cell_type": "markdown",
      "metadata": {
        "id": "oqvODp25ViaQ",
        "colab_type": "text"
      },
      "source": [
        "### Export feature data to Google Drive"
      ]
    },
    {
      "cell_type": "code",
      "metadata": {
        "id": "E7_nq89IRnUc",
        "colab_type": "code",
        "colab": {}
      },
      "source": [
        "# colab_transfer.copy_file('frozen_app_ids.txt',\n",
        "#                          source='/content/match-steam-banners/data/',\n",
        "#                          destination=colab_transfer.get_path_to_home_of_google_drive())\n",
        "\n",
        "# colab_transfer.copy_file('label_database.avg.npy', \n",
        "#                          source='/content/match-steam-banners/data/', \n",
        "#                          destination=colab_transfer.get_path_to_home_of_google_drive())"
      ],
      "execution_count": null,
      "outputs": []
    },
    {
      "cell_type": "markdown",
      "metadata": {
        "id": "OiOlXyHoWsqN",
        "colab_type": "text"
      },
      "source": [
        "### Import feature data from Google Drive"
      ]
    },
    {
      "cell_type": "code",
      "metadata": {
        "id": "y1eUj8-eWpte",
        "colab_type": "code",
        "colab": {}
      },
      "source": [
        "colab_transfer.copy_file('frozen_app_ids.txt',\n",
        "                         source=colab_transfer.get_path_to_home_of_google_drive(),\n",
        "                         destination='/content/match-steam-banners/data/')\n",
        "\n",
        "colab_transfer.copy_file('label_database.avg.npy', \n",
        "                         source=colab_transfer.get_path_to_home_of_google_drive(),\n",
        "                         destination='/content/match-steam-banners/data/')"
      ],
      "execution_count": null,
      "outputs": []
    },
    {
      "cell_type": "code",
      "metadata": {
        "id": "vVzlRFqLQOFx"
      },
      "source": [
        "# Alternatively:\r\n",
        "\r\n",
        "from pathlib import Path\r\n",
        "\r\n",
        "%mkdir -p data\r\n",
        "\r\n",
        "if not Path('data/frozen_app_ids.txt').exists():\r\n",
        "  print('Downloading')\r\n",
        "  !gdown --id 1YP6rG36wYSZMoXWL1acamRw6_R9l5TUA\r\n",
        "  %mv frozen_app_ids.txt data/\r\n",
        "\r\n",
        "if not Path('data/label_database.avg.npy').exists():\r\n",
        "  print('Downloading')\r\n",
        "  !gdown --id 10nb4TPhGsy7YvpkAuULUmBCkzm4DAm36\r\n",
        "  %mv label_database.avg.npy data/"
      ],
      "execution_count": null,
      "outputs": []
    },
    {
      "cell_type": "markdown",
      "metadata": {
        "id": "WlbEsgkkV8As",
        "colab_type": "text"
      },
      "source": [
        "## 2. Similar games\n",
        "\n",
        "Find the 10 most similar store banners to curated query appIDs."
      ]
    },
    {
      "cell_type": "markdown",
      "metadata": {
        "id": "oW8GNR7hpilI",
        "colab_type": "text"
      },
      "source": [
        "### Ping SteamSpy and GameDataCrunch API\n",
        "\n",
        "SteamSpy API may block requests from Google Colab. In this case, responses are empty:\n",
        "\n",
        "> JSONDecodeError: Expecting value: line 1 column 1 (char 0)"
      ]
    },
    {
      "cell_type": "markdown",
      "metadata": {
        "id": "WKA8Clzs4Y3E",
        "colab_type": "text"
      },
      "source": [
        "If you encounter this issue, you can bypass it by running the following from **your own local machine** to ping SteamSpy API:"
      ]
    },
    {
      "cell_type": "code",
      "metadata": {
        "id": "1zgpr925nr8l",
        "colab_type": "code",
        "colab": {}
      },
      "source": [
        "!python steam_spy_utils.py"
      ],
      "execution_count": null,
      "outputs": []
    },
    {
      "cell_type": "markdown",
      "metadata": {
        "id": "H16LBYyX2xFn",
        "colab_type": "text"
      },
      "source": [
        "Then **manually** upload the 2 cached files from within Colab's interface:\n",
        "```\n",
        "data/\n",
        "├ 20200823_gamedatacrunch.json   # GameDataCrunch database of games\n",
        "└ 20200823_top_100_app_ids.txt   # top100 most played games in the past 2 weeks\n",
        "```\n",
        "\n",
        "The GameDataCrunch database is used to retrieve game names corresponding to appIDs.\n",
        "\n",
        "Top 100 appIDs are used as a list of popular games to test our algorithm onto."
      ]
    },
    {
      "cell_type": "markdown",
      "metadata": {
        "id": "SeHYO2-oqRr7",
        "colab_type": "text"
      },
      "source": [
        "### Run the workflow"
      ]
    },
    {
      "cell_type": "code",
      "metadata": {
        "id": "jEaiSPNrWI3H",
        "colab_type": "code",
        "colab": {}
      },
      "source": [
        "!python retrieve_similar_features.py"
      ],
      "execution_count": null,
      "outputs": []
    },
    {
      "cell_type": "markdown",
      "metadata": {
        "id": "x-mP-HarV-pM",
        "colab_type": "text"
      },
      "source": [
        "## 3. Unique games\n",
        "\n",
        "Find the one most similar store banner to all appIDs available on the store, then display the most unique games."
      ]
    },
    {
      "cell_type": "code",
      "metadata": {
        "id": "J0NZ_fyRWJco",
        "colab_type": "code",
        "colab": {}
      },
      "source": [
        "!python find_unique_games.py"
      ],
      "execution_count": null,
      "outputs": []
    }
  ]
}